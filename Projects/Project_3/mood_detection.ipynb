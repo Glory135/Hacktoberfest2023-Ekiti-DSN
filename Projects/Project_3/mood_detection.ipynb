{
  "nbformat": 4,
  "nbformat_minor": 0,
  "metadata": {
    "colab": {
      "provenance": []
    },
    "kernelspec": {
      "name": "python3",
      "display_name": "Python 3"
    },
    "language_info": {
      "name": "python"
    }
  },
  "cells": [
    {
      "cell_type": "markdown",
      "source": [
        "## Data Ingestion using the kaggle API\n",
        "- Sign up/ sign into your [kaggle](https://www.kaggle.com/) account\n",
        "- Navigate to account tab of your profile and select 'create API token'. This will download a json file called kaggle.json\n",
        "- Ensure the downloaded folder is in the same directory as the project notebook.\n",
        "- Then run the follwing code"
      ],
      "metadata": {
        "id": "i53pzR58-NT9"
      }
    },
    {
      "cell_type": "code",
      "source": [
        "# Install Kaggle API\n",
        "!pip install --quiet kaggle"
      ],
      "metadata": {
        "id": "KNoKaDFr-Mjw"
      },
      "execution_count": 1,
      "outputs": []
    },
    {
      "cell_type": "code",
      "execution_count": null,
      "metadata": {
        "id": "DrNYInsI-BM2"
      },
      "outputs": [],
      "source": [
        "# Choose kaggle.json that created for new API token in your account\n",
        "from google.colab import files\n",
        "files.upload()\n",
        "#The output of the cell will be cleared"
      ]
    },
    {
      "cell_type": "code",
      "source": [
        "#copying API to kaggle directory\n",
        "!mkdir -p ~/.kaggle\n",
        "!cp kaggle.json ~/.kaggle/\n",
        "\n",
        "# Check the file in its new directory\n",
        "!ls /root/.kaggle/"
      ],
      "metadata": {
        "colab": {
          "base_uri": "https://localhost:8080/"
        },
        "id": "F2u3RvRqAEeD",
        "outputId": "2d34e153-7a17-4892-92d2-e7af1bbda54f"
      },
      "execution_count": 2,
      "outputs": [
        {
          "output_type": "stream",
          "name": "stdout",
          "text": [
            "kaggle.json\n"
          ]
        }
      ]
    },
    {
      "cell_type": "code",
      "source": [
        "# Check the file permission\n",
        "!ls -l ~/.kaggle/kaggle.json"
      ],
      "metadata": {
        "colab": {
          "base_uri": "https://localhost:8080/"
        },
        "id": "cfVex_BeAXjw",
        "outputId": "2b15ec05-b8b1-434e-e267-659987e816be"
      },
      "execution_count": 3,
      "outputs": [
        {
          "output_type": "stream",
          "name": "stdout",
          "text": [
            "-rw-r--r-- 1 root root 63 Oct  3 14:54 /root/.kaggle/kaggle.json\n"
          ]
        }
      ]
    },
    {
      "cell_type": "code",
      "source": [
        "#Change the file permission\n",
        "!chmod 700 ~/.kaggle/kaggle.json"
      ],
      "metadata": {
        "id": "1S3XprmkAYKp"
      },
      "execution_count": 4,
      "outputs": []
    },
    {
      "cell_type": "code",
      "source": [
        "#downloading the data\n",
        "!kaggle datasets download -d amitprajapati191978/mood-detection"
      ],
      "metadata": {
        "colab": {
          "base_uri": "https://localhost:8080/"
        },
        "id": "fZelTcKxAbBb",
        "outputId": "d3a119b2-cf79-4bbb-de42-42b9c91fa75d"
      },
      "execution_count": 5,
      "outputs": [
        {
          "output_type": "stream",
          "name": "stdout",
          "text": [
            "Downloading mood-detection.zip to /content\n",
            "\r  0% 0.00/8.00M [00:00<?, ?B/s]\r 62% 5.00M/8.00M [00:00<00:00, 45.4MB/s]\n",
            "\r100% 8.00M/8.00M [00:00<00:00, 65.4MB/s]\n"
          ]
        }
      ]
    },
    {
      "cell_type": "code",
      "source": [
        "%ls"
      ],
      "metadata": {
        "colab": {
          "base_uri": "https://localhost:8080/"
        },
        "id": "umeZHKjbBDfu",
        "outputId": "c114d1ad-b777-4b99-e728-834ed3ec05c8"
      },
      "execution_count": 6,
      "outputs": [
        {
          "output_type": "stream",
          "name": "stdout",
          "text": [
            "kaggle.json  mood-detection.zip  \u001b[0m\u001b[01;34msample_data\u001b[0m/\n"
          ]
        }
      ]
    },
    {
      "cell_type": "code",
      "source": [
        "#unziping the downloaded files\n",
        "!mkdir mood_images\n",
        "!unzip mood-detection.zip -d mood_images"
      ],
      "metadata": {
        "id": "YcVb_JJlAa_R"
      },
      "execution_count": null,
      "outputs": []
    },
    {
      "cell_type": "code",
      "source": [
        "happy_faces ='/content/mood_images/Happy'\n",
        "neutral_faces ='/content/mood_images/Nuetral'\n",
        "sad_faces ='/content/mood_images/Sad'"
      ],
      "metadata": {
        "id": "yswLWlFKAa87"
      },
      "execution_count": 8,
      "outputs": []
    },
    {
      "cell_type": "code",
      "source": [
        "all_class = [happy_faces, neutral_faces, sad_faces]"
      ],
      "metadata": {
        "id": "SJIUVrNpDXAC"
      },
      "execution_count": 10,
      "outputs": []
    },
    {
      "cell_type": "code",
      "source": [
        "#Importing the needed library\n",
        "import cv2 as cv\n",
        "import os\n",
        "import numpy as np\n",
        "import pandas as pd\n",
        "import matplotlib.pyplot as plt"
      ],
      "metadata": {
        "id": "xOXaS_2DDB6K"
      },
      "execution_count": 13,
      "outputs": []
    },
    {
      "cell_type": "code",
      "source": [
        "all_img = []\n",
        "for i in all_class:\n",
        "  print(i)\n",
        "  for filename in os.listdir(i):\n",
        "    img = cv.imread(os.path.join(i,filename))\n",
        "    if img is not None:\n",
        "      resize_img = cv.resize(img, (70, 70))\n",
        "      all_img.append(resize_img)"
      ],
      "metadata": {
        "colab": {
          "base_uri": "https://localhost:8080/"
        },
        "id": "HVvRUpOSAa6q",
        "outputId": "76fbb66f-07a9-4b75-cb47-366b187e167e"
      },
      "execution_count": 14,
      "outputs": [
        {
          "output_type": "stream",
          "name": "stdout",
          "text": [
            "/content/mood_images/Happy\n",
            "/content/mood_images/Nuetral\n",
            "/content/mood_images/Sad\n"
          ]
        }
      ]
    },
    {
      "cell_type": "code",
      "source": [
        "#Displaying a sample of the image\n",
        "plt.imshow(all_img[5], cmap='gray')"
      ],
      "metadata": {
        "colab": {
          "base_uri": "https://localhost:8080/",
          "height": 451
        },
        "id": "08teDlXdFAeI",
        "outputId": "0694b9d3-c295-4365-8158-e266d148ad87"
      },
      "execution_count": 16,
      "outputs": [
        {
          "output_type": "execute_result",
          "data": {
            "text/plain": [
              "<matplotlib.image.AxesImage at 0x7f48612473d0>"
            ]
          },
          "metadata": {},
          "execution_count": 16
        },
        {
          "output_type": "display_data",
          "data": {
            "text/plain": [
              "<Figure size 640x480 with 1 Axes>"
            ],
            "image/png": "[encoded data removed]"
          },
          "metadata": {}
        }
      ]
    },
    {
      "cell_type": "code",
      "source": [],
      "metadata": {
        "id": "lkkZrjNMFQ0p"
      },
      "execution_count": null,
      "outputs": []
    }
  ]
}